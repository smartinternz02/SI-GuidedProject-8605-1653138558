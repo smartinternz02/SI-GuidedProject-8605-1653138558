{
 "cells": [
  {
   "cell_type": "markdown",
   "metadata": {},
   "source": [
    "# STEP 1: DATA COLLECTION"
   ]
  },
  {
   "cell_type": "markdown",
   "metadata": {},
   "source": [
    "# STEP 2: DATA PREPROCESSING/ DATA WRANGLING"
   ]
  },
  {
   "cell_type": "markdown",
   "metadata": {},
   "source": [
    "IMPORTING LIBRARIES"
   ]
  },
  {
   "cell_type": "code",
   "execution_count": 1,
   "metadata": {},
   "outputs": [],
   "source": [
    "import numpy as np\n",
    "import pandas as pd"
   ]
  },
  {
   "cell_type": "code",
   "execution_count": 2,
   "metadata": {},
   "outputs": [
    {
     "data": {
      "text/html": [
       "<div>\n",
       "<style scoped>\n",
       "    .dataframe tbody tr th:only-of-type {\n",
       "        vertical-align: middle;\n",
       "    }\n",
       "\n",
       "    .dataframe tbody tr th {\n",
       "        vertical-align: top;\n",
       "    }\n",
       "\n",
       "    .dataframe thead th {\n",
       "        text-align: right;\n",
       "    }\n",
       "</style>\n",
       "<table border=\"1\" class=\"dataframe\">\n",
       "  <thead>\n",
       "    <tr style=\"text-align: right;\">\n",
       "      <th></th>\n",
       "      <th>Month</th>\n",
       "      <th>Sales</th>\n",
       "    </tr>\n",
       "  </thead>\n",
       "  <tbody>\n",
       "    <tr>\n",
       "      <th>0</th>\n",
       "      <td>1960-01</td>\n",
       "      <td>6550</td>\n",
       "    </tr>\n",
       "    <tr>\n",
       "      <th>1</th>\n",
       "      <td>1960-02</td>\n",
       "      <td>8728</td>\n",
       "    </tr>\n",
       "    <tr>\n",
       "      <th>2</th>\n",
       "      <td>1960-03</td>\n",
       "      <td>12026</td>\n",
       "    </tr>\n",
       "    <tr>\n",
       "      <th>3</th>\n",
       "      <td>1960-04</td>\n",
       "      <td>14395</td>\n",
       "    </tr>\n",
       "    <tr>\n",
       "      <th>4</th>\n",
       "      <td>1960-05</td>\n",
       "      <td>14587</td>\n",
       "    </tr>\n",
       "  </tbody>\n",
       "</table>\n",
       "</div>"
      ],
      "text/plain": [
       "     Month  Sales\n",
       "0  1960-01   6550\n",
       "1  1960-02   8728\n",
       "2  1960-03  12026\n",
       "3  1960-04  14395\n",
       "4  1960-05  14587"
      ]
     },
     "execution_count": 2,
     "metadata": {},
     "output_type": "execute_result"
    }
   ],
   "source": [
    "\n",
    "import os, types\n",
    "import pandas as pd\n",
    "from botocore.client import Config\n",
    "import ibm_boto3\n",
    "\n",
    "def __iter__(self): return 0\n",
    "\n",
    "# @hidden_cell\n",
    "# The following code accesses a file in your IBM Cloud Object Storage. It includes your credentials.\n",
    "# You might want to remove those credentials before you share the notebook.\n",
    "\n",
    "if os.environ.get('RUNTIME_ENV_LOCATION_TYPE') == 'external':\n",
    "    endpoint_9d750cc572a946a1aa22eeb94a45c58f = 'https://s3.us.cloud-object-storage.appdomain.cloud'\n",
    "else:\n",
    "    endpoint_9d750cc572a946a1aa22eeb94a45c58f = 'https://s3.private.us.cloud-object-storage.appdomain.cloud'\n",
    "\n",
    "client_9d750cc572a946a1aa22eeb94a45c58f = ibm_boto3.client(service_name='s3',\n",
    "    ibm_api_key_id='XKj2TQISLTaxfuxxbVQnH0awhq-oqSsqxZY_maa57ysq',\n",
    "    ibm_auth_endpoint=\"https://iam.cloud.ibm.com/oidc/token\",\n",
    "    config=Config(signature_version='oauth'),\n",
    "    endpoint_url=endpoint_9d750cc572a946a1aa22eeb94a45c58f)\n",
    "\n",
    "body = client_9d750cc572a946a1aa22eeb94a45c58f.get_object(Bucket='carseries-donotdelete-pr-yllvezhwcxyq4x',Key='monthly-car-sales.csv')['Body']\n",
    "# add missing __iter__ method, so pandas accepts body as file-like object\n",
    "if not hasattr(body, \"__iter__\"): body.__iter__ = types.MethodType( __iter__, body )\n",
    "\n",
    "dataset = pd.read_csv(body)\n",
    "dataset.head()\n"
   ]
  },
  {
   "cell_type": "code",
   "execution_count": 3,
   "metadata": {},
   "outputs": [
    {
     "data": {
      "text/html": [
       "<div>\n",
       "<style scoped>\n",
       "    .dataframe tbody tr th:only-of-type {\n",
       "        vertical-align: middle;\n",
       "    }\n",
       "\n",
       "    .dataframe tbody tr th {\n",
       "        vertical-align: top;\n",
       "    }\n",
       "\n",
       "    .dataframe thead th {\n",
       "        text-align: right;\n",
       "    }\n",
       "</style>\n",
       "<table border=\"1\" class=\"dataframe\">\n",
       "  <thead>\n",
       "    <tr style=\"text-align: right;\">\n",
       "      <th></th>\n",
       "      <th>Month</th>\n",
       "      <th>Sales</th>\n",
       "    </tr>\n",
       "  </thead>\n",
       "  <tbody>\n",
       "    <tr>\n",
       "      <th>103</th>\n",
       "      <td>1968-08</td>\n",
       "      <td>16722</td>\n",
       "    </tr>\n",
       "    <tr>\n",
       "      <th>104</th>\n",
       "      <td>1968-09</td>\n",
       "      <td>14385</td>\n",
       "    </tr>\n",
       "    <tr>\n",
       "      <th>105</th>\n",
       "      <td>1968-10</td>\n",
       "      <td>21342</td>\n",
       "    </tr>\n",
       "    <tr>\n",
       "      <th>106</th>\n",
       "      <td>1968-11</td>\n",
       "      <td>17180</td>\n",
       "    </tr>\n",
       "    <tr>\n",
       "      <th>107</th>\n",
       "      <td>1968-12</td>\n",
       "      <td>14577</td>\n",
       "    </tr>\n",
       "  </tbody>\n",
       "</table>\n",
       "</div>"
      ],
      "text/plain": [
       "       Month  Sales\n",
       "103  1968-08  16722\n",
       "104  1968-09  14385\n",
       "105  1968-10  21342\n",
       "106  1968-11  17180\n",
       "107  1968-12  14577"
      ]
     },
     "execution_count": 3,
     "metadata": {},
     "output_type": "execute_result"
    }
   ],
   "source": [
    "dataset.tail()"
   ]
  },
  {
   "cell_type": "code",
   "execution_count": 4,
   "metadata": {},
   "outputs": [
    {
     "data": {
      "text/html": [
       "<div>\n",
       "<style scoped>\n",
       "    .dataframe tbody tr th:only-of-type {\n",
       "        vertical-align: middle;\n",
       "    }\n",
       "\n",
       "    .dataframe tbody tr th {\n",
       "        vertical-align: top;\n",
       "    }\n",
       "\n",
       "    .dataframe thead th {\n",
       "        text-align: right;\n",
       "    }\n",
       "</style>\n",
       "<table border=\"1\" class=\"dataframe\">\n",
       "  <thead>\n",
       "    <tr style=\"text-align: right;\">\n",
       "      <th></th>\n",
       "      <th>Month</th>\n",
       "      <th>Sales</th>\n",
       "    </tr>\n",
       "  </thead>\n",
       "  <tbody>\n",
       "    <tr>\n",
       "      <th>0</th>\n",
       "      <td>1960-01</td>\n",
       "      <td>6550</td>\n",
       "    </tr>\n",
       "    <tr>\n",
       "      <th>1</th>\n",
       "      <td>1960-02</td>\n",
       "      <td>8728</td>\n",
       "    </tr>\n",
       "    <tr>\n",
       "      <th>2</th>\n",
       "      <td>1960-03</td>\n",
       "      <td>12026</td>\n",
       "    </tr>\n",
       "    <tr>\n",
       "      <th>3</th>\n",
       "      <td>1960-04</td>\n",
       "      <td>14395</td>\n",
       "    </tr>\n",
       "    <tr>\n",
       "      <th>4</th>\n",
       "      <td>1960-05</td>\n",
       "      <td>14587</td>\n",
       "    </tr>\n",
       "    <tr>\n",
       "      <th>5</th>\n",
       "      <td>1960-06</td>\n",
       "      <td>13791</td>\n",
       "    </tr>\n",
       "    <tr>\n",
       "      <th>6</th>\n",
       "      <td>1960-07</td>\n",
       "      <td>9498</td>\n",
       "    </tr>\n",
       "    <tr>\n",
       "      <th>7</th>\n",
       "      <td>1960-08</td>\n",
       "      <td>8251</td>\n",
       "    </tr>\n",
       "    <tr>\n",
       "      <th>8</th>\n",
       "      <td>1960-09</td>\n",
       "      <td>7049</td>\n",
       "    </tr>\n",
       "    <tr>\n",
       "      <th>9</th>\n",
       "      <td>1960-10</td>\n",
       "      <td>9545</td>\n",
       "    </tr>\n",
       "  </tbody>\n",
       "</table>\n",
       "</div>"
      ],
      "text/plain": [
       "     Month  Sales\n",
       "0  1960-01   6550\n",
       "1  1960-02   8728\n",
       "2  1960-03  12026\n",
       "3  1960-04  14395\n",
       "4  1960-05  14587\n",
       "5  1960-06  13791\n",
       "6  1960-07   9498\n",
       "7  1960-08   8251\n",
       "8  1960-09   7049\n",
       "9  1960-10   9545"
      ]
     },
     "execution_count": 4,
     "metadata": {},
     "output_type": "execute_result"
    }
   ],
   "source": [
    "dataset.head(10)"
   ]
  },
  {
   "cell_type": "code",
   "execution_count": 9,
   "metadata": {},
   "outputs": [],
   "source": [
    "dataset['year'] = pd.DatetimeIndex(dataset['Month']).year\n",
    "dataset['month'] = pd.DatetimeIndex(dataset['Month']).month\n",
    "#dataset['day'] = pd.DatetimeIndex(dataset['Date']).day"
   ]
  },
  {
   "cell_type": "code",
   "execution_count": 10,
   "metadata": {},
   "outputs": [
    {
     "data": {
      "text/html": [
       "<div>\n",
       "<style scoped>\n",
       "    .dataframe tbody tr th:only-of-type {\n",
       "        vertical-align: middle;\n",
       "    }\n",
       "\n",
       "    .dataframe tbody tr th {\n",
       "        vertical-align: top;\n",
       "    }\n",
       "\n",
       "    .dataframe thead th {\n",
       "        text-align: right;\n",
       "    }\n",
       "</style>\n",
       "<table border=\"1\" class=\"dataframe\">\n",
       "  <thead>\n",
       "    <tr style=\"text-align: right;\">\n",
       "      <th></th>\n",
       "      <th>Month</th>\n",
       "      <th>Sales</th>\n",
       "      <th>year</th>\n",
       "      <th>month</th>\n",
       "    </tr>\n",
       "  </thead>\n",
       "  <tbody>\n",
       "    <tr>\n",
       "      <th>0</th>\n",
       "      <td>1960-01</td>\n",
       "      <td>6550</td>\n",
       "      <td>1960</td>\n",
       "      <td>1</td>\n",
       "    </tr>\n",
       "    <tr>\n",
       "      <th>1</th>\n",
       "      <td>1960-02</td>\n",
       "      <td>8728</td>\n",
       "      <td>1960</td>\n",
       "      <td>2</td>\n",
       "    </tr>\n",
       "    <tr>\n",
       "      <th>2</th>\n",
       "      <td>1960-03</td>\n",
       "      <td>12026</td>\n",
       "      <td>1960</td>\n",
       "      <td>3</td>\n",
       "    </tr>\n",
       "    <tr>\n",
       "      <th>3</th>\n",
       "      <td>1960-04</td>\n",
       "      <td>14395</td>\n",
       "      <td>1960</td>\n",
       "      <td>4</td>\n",
       "    </tr>\n",
       "    <tr>\n",
       "      <th>4</th>\n",
       "      <td>1960-05</td>\n",
       "      <td>14587</td>\n",
       "      <td>1960</td>\n",
       "      <td>5</td>\n",
       "    </tr>\n",
       "  </tbody>\n",
       "</table>\n",
       "</div>"
      ],
      "text/plain": [
       "     Month  Sales  year  month\n",
       "0  1960-01   6550  1960      1\n",
       "1  1960-02   8728  1960      2\n",
       "2  1960-03  12026  1960      3\n",
       "3  1960-04  14395  1960      4\n",
       "4  1960-05  14587  1960      5"
      ]
     },
     "execution_count": 10,
     "metadata": {},
     "output_type": "execute_result"
    }
   ],
   "source": [
    "dataset.head()"
   ]
  },
  {
   "cell_type": "code",
   "execution_count": 11,
   "metadata": {},
   "outputs": [
    {
     "data": {
      "text/html": [
       "<div>\n",
       "<style scoped>\n",
       "    .dataframe tbody tr th:only-of-type {\n",
       "        vertical-align: middle;\n",
       "    }\n",
       "\n",
       "    .dataframe tbody tr th {\n",
       "        vertical-align: top;\n",
       "    }\n",
       "\n",
       "    .dataframe thead th {\n",
       "        text-align: right;\n",
       "    }\n",
       "</style>\n",
       "<table border=\"1\" class=\"dataframe\">\n",
       "  <thead>\n",
       "    <tr style=\"text-align: right;\">\n",
       "      <th></th>\n",
       "      <th>Sales</th>\n",
       "      <th>year</th>\n",
       "      <th>month</th>\n",
       "    </tr>\n",
       "  </thead>\n",
       "  <tbody>\n",
       "    <tr>\n",
       "      <th>Sales</th>\n",
       "      <td>1.000000</td>\n",
       "      <td>5.804182e-01</td>\n",
       "      <td>-1.337683e-01</td>\n",
       "    </tr>\n",
       "    <tr>\n",
       "      <th>year</th>\n",
       "      <td>0.580418</td>\n",
       "      <td>1.000000e+00</td>\n",
       "      <td>1.391750e-14</td>\n",
       "    </tr>\n",
       "    <tr>\n",
       "      <th>month</th>\n",
       "      <td>-0.133768</td>\n",
       "      <td>1.391750e-14</td>\n",
       "      <td>1.000000e+00</td>\n",
       "    </tr>\n",
       "  </tbody>\n",
       "</table>\n",
       "</div>"
      ],
      "text/plain": [
       "          Sales          year         month\n",
       "Sales  1.000000  5.804182e-01 -1.337683e-01\n",
       "year   0.580418  1.000000e+00  1.391750e-14\n",
       "month -0.133768  1.391750e-14  1.000000e+00"
      ]
     },
     "execution_count": 11,
     "metadata": {},
     "output_type": "execute_result"
    }
   ],
   "source": [
    "dataset.corr()"
   ]
  },
  {
   "cell_type": "markdown",
   "metadata": {},
   "source": [
    "Dropping Date Column, Because we already splitted the Date into Year, Month and Day"
   ]
  },
  {
   "cell_type": "code",
   "execution_count": 12,
   "metadata": {
    "scrolled": true
   },
   "outputs": [],
   "source": [
    "dataset.drop('Month', axis=1, inplace=True)"
   ]
  },
  {
   "cell_type": "markdown",
   "metadata": {},
   "source": [
    "Checking for null values"
   ]
  },
  {
   "cell_type": "code",
   "execution_count": 13,
   "metadata": {},
   "outputs": [
    {
     "data": {
      "text/plain": [
       "Sales    False\n",
       "year     False\n",
       "month    False\n",
       "dtype: bool"
      ]
     },
     "execution_count": 13,
     "metadata": {},
     "output_type": "execute_result"
    }
   ],
   "source": [
    "dataset.isnull().any()"
   ]
  },
  {
   "cell_type": "code",
   "execution_count": 14,
   "metadata": {},
   "outputs": [
    {
     "name": "stdout",
     "output_type": "stream",
     "text": [
      "<class 'pandas.core.frame.DataFrame'>\n",
      "RangeIndex: 108 entries, 0 to 107\n",
      "Data columns (total 3 columns):\n",
      " #   Column  Non-Null Count  Dtype\n",
      "---  ------  --------------  -----\n",
      " 0   Sales   108 non-null    int64\n",
      " 1   year    108 non-null    int64\n",
      " 2   month   108 non-null    int64\n",
      "dtypes: int64(3)\n",
      "memory usage: 2.7 KB\n"
     ]
    }
   ],
   "source": [
    "dataset.info()"
   ]
  },
  {
   "cell_type": "markdown",
   "metadata": {},
   "source": [
    "HANDLING MISSING VALUES"
   ]
  },
  {
   "cell_type": "code",
   "execution_count": 16,
   "metadata": {},
   "outputs": [
    {
     "name": "stderr",
     "output_type": "stream",
     "text": [
      "No handles with labels found to put in legend.\n"
     ]
    },
    {
     "data": {
      "text/plain": [
       "<matplotlib.legend.Legend at 0x7f30c4d7c0a0>"
      ]
     },
     "execution_count": 16,
     "metadata": {},
     "output_type": "execute_result"
    },
    {
     "data": {
      "image/png": "[encoded data removed]",
      "text/plain": [
       "<Figure size 432x288 with 1 Axes>"
      ]
     },
     "metadata": {
      "needs_background": "light"
     },
     "output_type": "display_data"
    }
   ],
   "source": [
    "import matplotlib.pyplot as plt\n",
    "plt.bar(dataset['month'],dataset['Sales'],color='green')\n",
    "plt.xlabel('Month')\n",
    "plt.ylabel('y')\n",
    "plt.title('PRICE OF CAR SALES ON THE BASIS OF MONTHS OF A YEAR')\n",
    "plt.legend()"
   ]
  },
  {
   "cell_type": "code",
   "execution_count": 17,
   "metadata": {},
   "outputs": [
    {
     "data": {
      "text/plain": [
       "<AxesSubplot:xlabel='year', ylabel='Sales'>"
      ]
     },
     "execution_count": 17,
     "metadata": {},
     "output_type": "execute_result"
    },
    {
     "data": {
      "image/png": "[encoded data removed]",
      "text/plain": [
       "<Figure size 432x288 with 1 Axes>"
      ]
     },
     "metadata": {
      "needs_background": "light"
     },
     "output_type": "display_data"
    }
   ],
   "source": [
    "import seaborn as sns\n",
    "sns.lineplot(x='year',y='Sales',data=dataset,color='red')"
   ]
  },
  {
   "cell_type": "code",
   "execution_count": 18,
   "metadata": {},
   "outputs": [
    {
     "name": "stderr",
     "output_type": "stream",
     "text": [
      "No handles with labels found to put in legend.\n"
     ]
    },
    {
     "data": {
      "text/plain": [
       "<matplotlib.legend.Legend at 0x7f30beb40a90>"
      ]
     },
     "execution_count": 18,
     "metadata": {},
     "output_type": "execute_result"
    },
    {
     "data": {
      "image/png": "[encoded data removed]",
      "text/plain": [
       "<Figure size 576x288 with 1 Axes>"
      ]
     },
     "metadata": {
      "needs_background": "light"
     },
     "output_type": "display_data"
    }
   ],
   "source": [
    "fig=plt.figure(figsize=(8,4))\n",
    "plt.scatter(dataset['year'],dataset['Sales'],color='purple')\n",
    "plt.xlabel('Month')\n",
    "plt.ylabel('Price')\n",
    "plt.title('PRICE OF CAR SALES ON THE BASIS OF MONTHS OF A YEAR')\n",
    "plt.legend()"
   ]
  },
  {
   "cell_type": "code",
   "execution_count": 19,
   "metadata": {},
   "outputs": [
    {
     "data": {
      "image/png": "[encoded data removed]",
      "text/plain": [
       "<Figure size 540x540 with 12 Axes>"
      ]
     },
     "metadata": {
      "needs_background": "light"
     },
     "output_type": "display_data"
    }
   ],
   "source": [
    "import seaborn as sns\n",
    "sns.pairplot(dataset)\n",
    "plt.show()"
   ]
  },
  {
   "cell_type": "raw",
   "metadata": {},
   "source": [
    "from sklearn.preprocessing import LabelEncoder\n",
    "le = LabelEncoder()\n",
    "dataset['colum_name'] = le.fit_transform(dataset['column_name'])"
   ]
  },
  {
   "cell_type": "markdown",
   "metadata": {},
   "source": [
    "IT IS NOT NECESSARY TO APPLY LABEL ENCODING AND ONE HOT ENCODING AS THE DATASET DOES NOT CONTAIN ANY TEXTUAL DATA"
   ]
  },
  {
   "cell_type": "markdown",
   "metadata": {},
   "source": [
    "SPLIT DATASET INTO INPUTS AND OUTPUTS"
   ]
  },
  {
   "cell_type": "markdown",
   "metadata": {},
   "source": [
    "Now, Split the dataset into X(independent variable) and Y(dependent variable)"
   ]
  },
  {
   "cell_type": "code",
   "execution_count": 20,
   "metadata": {},
   "outputs": [],
   "source": [
    "x=dataset.iloc[:,1:3].values #inputs\n",
    "y=dataset.iloc[:,0:1].values #output price only"
   ]
  },
  {
   "cell_type": "code",
   "execution_count": 21,
   "metadata": {},
   "outputs": [
    {
     "data": {
      "text/plain": [
       "array([[1960,    1],\n",
       "       [1960,    2],\n",
       "       [1960,    3],\n",
       "       [1960,    4],\n",
       "       [1960,    5],\n",
       "       [1960,    6],\n",
       "       [1960,    7],\n",
       "       [1960,    8],\n",
       "       [1960,    9],\n",
       "       [1960,   10],\n",
       "       [1960,   11],\n",
       "       [1960,   12],\n",
       "       [1961,    1],\n",
       "       [1961,    2],\n",
       "       [1961,    3],\n",
       "       [1961,    4],\n",
       "       [1961,    5],\n",
       "       [1961,    6],\n",
       "       [1961,    7],\n",
       "       [1961,    8],\n",
       "       [1961,    9],\n",
       "       [1961,   10],\n",
       "       [1961,   11],\n",
       "       [1961,   12],\n",
       "       [1962,    1],\n",
       "       [1962,    2],\n",
       "       [1962,    3],\n",
       "       [1962,    4],\n",
       "       [1962,    5],\n",
       "       [1962,    6],\n",
       "       [1962,    7],\n",
       "       [1962,    8],\n",
       "       [1962,    9],\n",
       "       [1962,   10],\n",
       "       [1962,   11],\n",
       "       [1962,   12],\n",
       "       [1963,    1],\n",
       "       [1963,    2],\n",
       "       [1963,    3],\n",
       "       [1963,    4],\n",
       "       [1963,    5],\n",
       "       [1963,    6],\n",
       "       [1963,    7],\n",
       "       [1963,    8],\n",
       "       [1963,    9],\n",
       "       [1963,   10],\n",
       "       [1963,   11],\n",
       "       [1963,   12],\n",
       "       [1964,    1],\n",
       "       [1964,    2],\n",
       "       [1964,    3],\n",
       "       [1964,    4],\n",
       "       [1964,    5],\n",
       "       [1964,    6],\n",
       "       [1964,    7],\n",
       "       [1964,    8],\n",
       "       [1964,    9],\n",
       "       [1964,   10],\n",
       "       [1964,   11],\n",
       "       [1964,   12],\n",
       "       [1965,    1],\n",
       "       [1965,    2],\n",
       "       [1965,    3],\n",
       "       [1965,    4],\n",
       "       [1965,    5],\n",
       "       [1965,    6],\n",
       "       [1965,    7],\n",
       "       [1965,    8],\n",
       "       [1965,    9],\n",
       "       [1965,   10],\n",
       "       [1965,   11],\n",
       "       [1965,   12],\n",
       "       [1966,    1],\n",
       "       [1966,    2],\n",
       "       [1966,    3],\n",
       "       [1966,    4],\n",
       "       [1966,    5],\n",
       "       [1966,    6],\n",
       "       [1966,    7],\n",
       "       [1966,    8],\n",
       "       [1966,    9],\n",
       "       [1966,   10],\n",
       "       [1966,   11],\n",
       "       [1966,   12],\n",
       "       [1967,    1],\n",
       "       [1967,    2],\n",
       "       [1967,    3],\n",
       "       [1967,    4],\n",
       "       [1967,    5],\n",
       "       [1967,    6],\n",
       "       [1967,    7],\n",
       "       [1967,    8],\n",
       "       [1967,    9],\n",
       "       [1967,   10],\n",
       "       [1967,   11],\n",
       "       [1967,   12],\n",
       "       [1968,    1],\n",
       "       [1968,    2],\n",
       "       [1968,    3],\n",
       "       [1968,    4],\n",
       "       [1968,    5],\n",
       "       [1968,    6],\n",
       "       [1968,    7],\n",
       "       [1968,    8],\n",
       "       [1968,    9],\n",
       "       [1968,   10],\n",
       "       [1968,   11],\n",
       "       [1968,   12]])"
      ]
     },
     "execution_count": 21,
     "metadata": {},
     "output_type": "execute_result"
    }
   ],
   "source": [
    "x"
   ]
  },
  {
   "cell_type": "code",
   "execution_count": 22,
   "metadata": {},
   "outputs": [
    {
     "data": {
      "text/plain": [
       "array([[ 6550],\n",
       "       [ 8728],\n",
       "       [12026],\n",
       "       [14395],\n",
       "       [14587],\n",
       "       [13791],\n",
       "       [ 9498],\n",
       "       [ 8251],\n",
       "       [ 7049],\n",
       "       [ 9545],\n",
       "       [ 9364],\n",
       "       [ 8456],\n",
       "       [ 7237],\n",
       "       [ 9374],\n",
       "       [11837],\n",
       "       [13784],\n",
       "       [15926],\n",
       "       [13821],\n",
       "       [11143],\n",
       "       [ 7975],\n",
       "       [ 7610],\n",
       "       [10015],\n",
       "       [12759],\n",
       "       [ 8816],\n",
       "       [10677],\n",
       "       [10947],\n",
       "       [15200],\n",
       "       [17010],\n",
       "       [20900],\n",
       "       [16205],\n",
       "       [12143],\n",
       "       [ 8997],\n",
       "       [ 5568],\n",
       "       [11474],\n",
       "       [12256],\n",
       "       [10583],\n",
       "       [10862],\n",
       "       [10965],\n",
       "       [14405],\n",
       "       [20379],\n",
       "       [20128],\n",
       "       [17816],\n",
       "       [12268],\n",
       "       [ 8642],\n",
       "       [ 7962],\n",
       "       [13932],\n",
       "       [15936],\n",
       "       [12628],\n",
       "       [12267],\n",
       "       [12470],\n",
       "       [18944],\n",
       "       [21259],\n",
       "       [22015],\n",
       "       [18581],\n",
       "       [15175],\n",
       "       [10306],\n",
       "       [10792],\n",
       "       [14752],\n",
       "       [13754],\n",
       "       [11738],\n",
       "       [12181],\n",
       "       [12965],\n",
       "       [19990],\n",
       "       [23125],\n",
       "       [23541],\n",
       "       [21247],\n",
       "       [15189],\n",
       "       [14767],\n",
       "       [10895],\n",
       "       [17130],\n",
       "       [17697],\n",
       "       [16611],\n",
       "       [12674],\n",
       "       [12760],\n",
       "       [20249],\n",
       "       [22135],\n",
       "       [20677],\n",
       "       [19933],\n",
       "       [15388],\n",
       "       [15113],\n",
       "       [13401],\n",
       "       [16135],\n",
       "       [17562],\n",
       "       [14720],\n",
       "       [12225],\n",
       "       [11608],\n",
       "       [20985],\n",
       "       [19692],\n",
       "       [24081],\n",
       "       [22114],\n",
       "       [14220],\n",
       "       [13434],\n",
       "       [13598],\n",
       "       [17187],\n",
       "       [16119],\n",
       "       [13713],\n",
       "       [13210],\n",
       "       [14251],\n",
       "       [20139],\n",
       "       [21725],\n",
       "       [26099],\n",
       "       [21084],\n",
       "       [18024],\n",
       "       [16722],\n",
       "       [14385],\n",
       "       [21342],\n",
       "       [17180],\n",
       "       [14577]])"
      ]
     },
     "execution_count": 22,
     "metadata": {},
     "output_type": "execute_result"
    }
   ],
   "source": [
    "y"
   ]
  },
  {
   "cell_type": "markdown",
   "metadata": {},
   "source": [
    "SPLIT THE DATA INTO TRAIN AND TEST SETS"
   ]
  },
  {
   "cell_type": "code",
   "execution_count": 23,
   "metadata": {},
   "outputs": [],
   "source": [
    "from sklearn.model_selection import train_test_split\n",
    "x_train,x_test,y_train,y_test=train_test_split(x,y,\n",
    "                        test_size=0.2,random_state=0)"
   ]
  },
  {
   "cell_type": "code",
   "execution_count": 24,
   "metadata": {},
   "outputs": [
    {
     "data": {
      "text/plain": [
       "(86, 2)"
      ]
     },
     "execution_count": 24,
     "metadata": {},
     "output_type": "execute_result"
    }
   ],
   "source": [
    "x_train.shape"
   ]
  },
  {
   "cell_type": "code",
   "execution_count": 25,
   "metadata": {},
   "outputs": [
    {
     "data": {
      "text/plain": [
       "(22, 2)"
      ]
     },
     "execution_count": 25,
     "metadata": {},
     "output_type": "execute_result"
    }
   ],
   "source": [
    "x_test.shape"
   ]
  },
  {
   "cell_type": "markdown",
   "metadata": {},
   "source": [
    "# STEP 4: BUILDING AND TESTING THE MODEL"
   ]
  },
  {
   "cell_type": "markdown",
   "metadata": {},
   "source": [
    "MULTIPLE LINEAR REGRESSION"
   ]
  },
  {
   "cell_type": "code",
   "execution_count": 26,
   "metadata": {},
   "outputs": [
    {
     "data": {
      "text/plain": [
       "LinearRegression()"
      ]
     },
     "execution_count": 26,
     "metadata": {},
     "output_type": "execute_result"
    }
   ],
   "source": [
    "#importing linear regression from scikit learn library\n",
    "from sklearn.linear_model import LinearRegression\n",
    "#mlr is object of LinearRegression\n",
    "mlr=LinearRegression()\n",
    "#trainig the model using fit method\n",
    "mlr.fit(x_train,y_train)"
   ]
  },
  {
   "cell_type": "code",
   "execution_count": 27,
   "metadata": {},
   "outputs": [],
   "source": [
    "y_pred=mlr.predict(x_test)"
   ]
  },
  {
   "cell_type": "code",
   "execution_count": 28,
   "metadata": {},
   "outputs": [
    {
     "data": {
      "text/plain": [
       "array([[19054.89242864],\n",
       "       [ 9542.22369668],\n",
       "       [17336.67504119],\n",
       "       [11371.20768227],\n",
       "       [13893.15046437],\n",
       "       [19172.74882869],\n",
       "       [17572.3878413 ],\n",
       "       [10228.09269127],\n",
       "       [11946.31007872],\n",
       "       [18597.64643224],\n",
       "       [15161.21165734],\n",
       "       [10574.57208953],\n",
       "       [12867.89187343],\n",
       "       [16990.19564293],\n",
       "       [17108.05204299],\n",
       "       [15043.35525728],\n",
       "       [12632.17907332],\n",
       "       [17793.92103759],\n",
       "       [18826.26943044],\n",
       "       [14586.10926088],\n",
       "       [18486.8798341 ],\n",
       "       [ 9999.46969308]])"
      ]
     },
     "execution_count": 28,
     "metadata": {},
     "output_type": "execute_result"
    }
   ],
   "source": [
    "y_pred"
   ]
  },
  {
   "cell_type": "code",
   "execution_count": 29,
   "metadata": {},
   "outputs": [
    {
     "data": {
      "text/plain": [
       "array([[12225],\n",
       "       [ 9364],\n",
       "       [22135],\n",
       "       [12026],\n",
       "       [10677],\n",
       "       [26099],\n",
       "       [14577],\n",
       "       [ 8251],\n",
       "       [15926],\n",
       "       [20985],\n",
       "       [10895],\n",
       "       [12759],\n",
       "       [13932],\n",
       "       [12181],\n",
       "       [20677],\n",
       "       [22015],\n",
       "       [ 9374],\n",
       "       [12760],\n",
       "       [11608],\n",
       "       [15175],\n",
       "       [16722],\n",
       "       [ 7049]])"
      ]
     },
     "execution_count": 29,
     "metadata": {},
     "output_type": "execute_result"
    }
   ],
   "source": [
    "y_test"
   ]
  },
  {
   "cell_type": "code",
   "execution_count": 30,
   "metadata": {},
   "outputs": [],
   "source": [
    "from sklearn.metrics import r2_score\n",
    "accuracy=r2_score(y_test,y_pred)"
   ]
  },
  {
   "cell_type": "code",
   "execution_count": 31,
   "metadata": {},
   "outputs": [
    {
     "data": {
      "text/plain": [
       "0.31563714627354245"
      ]
     },
     "execution_count": 31,
     "metadata": {},
     "output_type": "execute_result"
    }
   ],
   "source": [
    "accuracy"
   ]
  },
  {
   "cell_type": "markdown",
   "metadata": {},
   "source": [
    "Note: The accuracy obtained using the Multilinear Regression Algorithm is very low...Therefore we will not use this algorithm"
   ]
  },
  {
   "cell_type": "markdown",
   "metadata": {},
   "source": [
    "DECISION TREE REGRESSOR"
   ]
  },
  {
   "cell_type": "code",
   "execution_count": 32,
   "metadata": {},
   "outputs": [
    {
     "data": {
      "text/plain": [
       "DecisionTreeRegressor()"
      ]
     },
     "execution_count": 32,
     "metadata": {},
     "output_type": "execute_result"
    }
   ],
   "source": [
    "#import decision tree regressor\n",
    "from sklearn.tree import DecisionTreeRegressor\n",
    "dtr=DecisionTreeRegressor()\n",
    "#fitting the model or training the model\n",
    "dtr.fit(x_train,y_train)"
   ]
  },
  {
   "cell_type": "markdown",
   "metadata": {},
   "source": [
    "PREDICTION"
   ]
  },
  {
   "cell_type": "code",
   "execution_count": 33,
   "metadata": {},
   "outputs": [],
   "source": [
    "y_pred=dtr.predict(x_test)"
   ]
  },
  {
   "cell_type": "code",
   "execution_count": 34,
   "metadata": {},
   "outputs": [
    {
     "data": {
      "text/plain": [
       "array([12674.,  9545., 23125., 11837., 10862., 24081., 17180.,  7975.,\n",
       "       13784., 20249., 13401., 10015., 15936., 12674., 23541., 21259.,\n",
       "        8728., 12965., 12965., 12268., 13434.,  7610.])"
      ]
     },
     "execution_count": 34,
     "metadata": {},
     "output_type": "execute_result"
    }
   ],
   "source": [
    "y_pred"
   ]
  },
  {
   "cell_type": "code",
   "execution_count": 35,
   "metadata": {},
   "outputs": [
    {
     "data": {
      "text/plain": [
       "array([[12225],\n",
       "       [ 9364],\n",
       "       [22135],\n",
       "       [12026],\n",
       "       [10677],\n",
       "       [26099],\n",
       "       [14577],\n",
       "       [ 8251],\n",
       "       [15926],\n",
       "       [20985],\n",
       "       [10895],\n",
       "       [12759],\n",
       "       [13932],\n",
       "       [12181],\n",
       "       [20677],\n",
       "       [22015],\n",
       "       [ 9374],\n",
       "       [12760],\n",
       "       [11608],\n",
       "       [15175],\n",
       "       [16722],\n",
       "       [ 7049]])"
      ]
     },
     "execution_count": 35,
     "metadata": {},
     "output_type": "execute_result"
    }
   ],
   "source": [
    "y_test"
   ]
  },
  {
   "cell_type": "markdown",
   "metadata": {},
   "source": [
    "ACCURACY EVALUATION"
   ]
  },
  {
   "cell_type": "code",
   "execution_count": 36,
   "metadata": {},
   "outputs": [],
   "source": [
    "from sklearn.metrics import r2_score\n",
    "dtraccuracy=r2_score(y_test,y_pred)"
   ]
  },
  {
   "cell_type": "code",
   "execution_count": 37,
   "metadata": {},
   "outputs": [
    {
     "data": {
      "text/plain": [
       "0.8783651352196062"
      ]
     },
     "execution_count": 37,
     "metadata": {},
     "output_type": "execute_result"
    }
   ],
   "source": [
    "dtraccuracy"
   ]
  },
  {
   "cell_type": "markdown",
   "metadata": {},
   "source": [
    "RANDOM VALUE PREDICTION"
   ]
  },
  {
   "cell_type": "code",
   "execution_count": 38,
   "metadata": {},
   "outputs": [
    {
     "data": {
      "text/html": [
       "<div>\n",
       "<style scoped>\n",
       "    .dataframe tbody tr th:only-of-type {\n",
       "        vertical-align: middle;\n",
       "    }\n",
       "\n",
       "    .dataframe tbody tr th {\n",
       "        vertical-align: top;\n",
       "    }\n",
       "\n",
       "    .dataframe thead th {\n",
       "        text-align: right;\n",
       "    }\n",
       "</style>\n",
       "<table border=\"1\" class=\"dataframe\">\n",
       "  <thead>\n",
       "    <tr style=\"text-align: right;\">\n",
       "      <th></th>\n",
       "      <th>Sales</th>\n",
       "      <th>year</th>\n",
       "      <th>month</th>\n",
       "    </tr>\n",
       "  </thead>\n",
       "  <tbody>\n",
       "    <tr>\n",
       "      <th>0</th>\n",
       "      <td>6550</td>\n",
       "      <td>1960</td>\n",
       "      <td>1</td>\n",
       "    </tr>\n",
       "    <tr>\n",
       "      <th>1</th>\n",
       "      <td>8728</td>\n",
       "      <td>1960</td>\n",
       "      <td>2</td>\n",
       "    </tr>\n",
       "    <tr>\n",
       "      <th>2</th>\n",
       "      <td>12026</td>\n",
       "      <td>1960</td>\n",
       "      <td>3</td>\n",
       "    </tr>\n",
       "    <tr>\n",
       "      <th>3</th>\n",
       "      <td>14395</td>\n",
       "      <td>1960</td>\n",
       "      <td>4</td>\n",
       "    </tr>\n",
       "    <tr>\n",
       "      <th>4</th>\n",
       "      <td>14587</td>\n",
       "      <td>1960</td>\n",
       "      <td>5</td>\n",
       "    </tr>\n",
       "  </tbody>\n",
       "</table>\n",
       "</div>"
      ],
      "text/plain": [
       "   Sales  year  month\n",
       "0   6550  1960      1\n",
       "1   8728  1960      2\n",
       "2  12026  1960      3\n",
       "3  14395  1960      4\n",
       "4  14587  1960      5"
      ]
     },
     "execution_count": 38,
     "metadata": {},
     "output_type": "execute_result"
    }
   ],
   "source": [
    "dataset.head()"
   ]
  },
  {
   "cell_type": "code",
   "execution_count": 39,
   "metadata": {},
   "outputs": [],
   "source": [
    "y_p=dtr.predict([[2005,12]])"
   ]
  },
  {
   "cell_type": "code",
   "execution_count": 40,
   "metadata": {},
   "outputs": [
    {
     "data": {
      "text/plain": [
       "array([17180.])"
      ]
     },
     "execution_count": 40,
     "metadata": {},
     "output_type": "execute_result"
    }
   ],
   "source": [
    "y_p"
   ]
  },
  {
   "cell_type": "code",
   "execution_count": 41,
   "metadata": {},
   "outputs": [],
   "source": [
    "y_p=dtr.predict([[1997,1]])"
   ]
  },
  {
   "cell_type": "code",
   "execution_count": 42,
   "metadata": {},
   "outputs": [
    {
     "data": {
      "text/plain": [
       "array([13210.])"
      ]
     },
     "execution_count": 42,
     "metadata": {},
     "output_type": "execute_result"
    }
   ],
   "source": [
    "y_p"
   ]
  },
  {
   "cell_type": "code",
   "execution_count": 44,
   "metadata": {},
   "outputs": [],
   "source": [
    "import pickle\n",
    "pickle.dump(dtr,open('sales.pkl','wb'))"
   ]
  },
  {
   "cell_type": "code",
   "execution_count": 45,
   "metadata": {},
   "outputs": [
    {
     "data": {
      "text/plain": [
       "'/home/wsuser/work'"
      ]
     },
     "execution_count": 45,
     "metadata": {},
     "output_type": "execute_result"
    }
   ],
   "source": [
    "pwd"
   ]
  },
  {
   "cell_type": "markdown",
   "metadata": {},
   "source": [
    "# Deployment"
   ]
  },
  {
   "cell_type": "markdown",
   "metadata": {},
   "source": [
    "URLS Dallas: https://us-south.ml.cloud.ibm.com, London - https://eu-gb.ml.cloud.ibm.com, Frankfurt - https://eu-de.ml.cloud.ibm.com, Tokyo - https://jp-tok.ml.cloud.ibm.com"
   ]
  },
  {
   "cell_type": "markdown",
   "metadata": {},
   "source": [
    "# Import and Install dependencies"
   ]
  },
  {
   "cell_type": "code",
   "execution_count": 46,
   "metadata": {},
   "outputs": [
    {
     "name": "stdout",
     "output_type": "stream",
     "text": [
      "Requirement already satisfied: ibm-watson-machine-learning in /opt/conda/envs/Python-3.8-main/lib/python3.8/site-packages (1.0.176)\n",
      "Collecting ibm-watson-machine-learning\n",
      "  Downloading ibm_watson_machine_learning-1.0.178-py3-none-any.whl (1.8 MB)\n",
      "\u001b[K     |████████████████████████████████| 1.8 MB 22.9 MB/s eta 0:00:01\n",
      "\u001b[?25hRequirement already satisfied: ibm-cos-sdk==2.7.* in /opt/conda/envs/Python-3.8-main/lib/python3.8/site-packages (from ibm-watson-machine-learning) (2.7.0)\n",
      "Requirement already satisfied: importlib-metadata in /opt/conda/envs/Python-3.8-main/lib/python3.8/site-packages (from ibm-watson-machine-learning) (3.10.0)\n",
      "Requirement already satisfied: lomond in /opt/conda/envs/Python-3.8-main/lib/python3.8/site-packages (from ibm-watson-machine-learning) (0.3.3)\n",
      "Requirement already satisfied: packaging in /opt/conda/envs/Python-3.8-main/lib/python3.8/site-packages (from ibm-watson-machine-learning) (20.9)\n",
      "Requirement already satisfied: certifi in /opt/conda/envs/Python-3.8-main/lib/python3.8/site-packages (from ibm-watson-machine-learning) (2021.10.8)\n",
      "Requirement already satisfied: urllib3 in /opt/conda/envs/Python-3.8-main/lib/python3.8/site-packages (from ibm-watson-machine-learning) (1.26.6)\n",
      "Requirement already satisfied: requests in /opt/conda/envs/Python-3.8-main/lib/python3.8/site-packages (from ibm-watson-machine-learning) (2.25.1)\n",
      "Requirement already satisfied: tabulate in /opt/conda/envs/Python-3.8-main/lib/python3.8/site-packages (from ibm-watson-machine-learning) (0.8.9)\n",
      "Requirement already satisfied: pandas<1.3.0,>=0.24.2 in /opt/conda/envs/Python-3.8-main/lib/python3.8/site-packages (from ibm-watson-machine-learning) (1.2.4)\n",
      "Requirement already satisfied: ibm-cos-sdk-core==2.7.0 in /opt/conda/envs/Python-3.8-main/lib/python3.8/site-packages (from ibm-cos-sdk==2.7.*->ibm-watson-machine-learning) (2.7.0)\n",
      "Requirement already satisfied: ibm-cos-sdk-s3transfer==2.7.0 in /opt/conda/envs/Python-3.8-main/lib/python3.8/site-packages (from ibm-cos-sdk==2.7.*->ibm-watson-machine-learning) (2.7.0)\n",
      "Requirement already satisfied: jmespath<1.0.0,>=0.7.1 in /opt/conda/envs/Python-3.8-main/lib/python3.8/site-packages (from ibm-cos-sdk==2.7.*->ibm-watson-machine-learning) (0.10.0)\n",
      "Requirement already satisfied: docutils<0.16,>=0.10 in /opt/conda/envs/Python-3.8-main/lib/python3.8/site-packages (from ibm-cos-sdk-core==2.7.0->ibm-cos-sdk==2.7.*->ibm-watson-machine-learning) (0.15.2)\n",
      "Requirement already satisfied: python-dateutil<3.0.0,>=2.1 in /opt/conda/envs/Python-3.8-main/lib/python3.8/site-packages (from ibm-cos-sdk-core==2.7.0->ibm-cos-sdk==2.7.*->ibm-watson-machine-learning) (2.8.1)\n",
      "Requirement already satisfied: pytz>=2017.3 in /opt/conda/envs/Python-3.8-main/lib/python3.8/site-packages (from pandas<1.3.0,>=0.24.2->ibm-watson-machine-learning) (2021.1)\n",
      "Requirement already satisfied: numpy>=1.16.5 in /opt/conda/envs/Python-3.8-main/lib/python3.8/site-packages (from pandas<1.3.0,>=0.24.2->ibm-watson-machine-learning) (1.19.2)\n",
      "Requirement already satisfied: six>=1.5 in /opt/conda/envs/Python-3.8-main/lib/python3.8/site-packages (from python-dateutil<3.0.0,>=2.1->ibm-cos-sdk-core==2.7.0->ibm-cos-sdk==2.7.*->ibm-watson-machine-learning) (1.15.0)\n",
      "Requirement already satisfied: chardet<5,>=3.0.2 in /opt/conda/envs/Python-3.8-main/lib/python3.8/site-packages (from requests->ibm-watson-machine-learning) (3.0.4)\n",
      "Requirement already satisfied: idna<3,>=2.5 in /opt/conda/envs/Python-3.8-main/lib/python3.8/site-packages (from requests->ibm-watson-machine-learning) (2.8)\n",
      "Requirement already satisfied: zipp>=0.5 in /opt/conda/envs/Python-3.8-main/lib/python3.8/site-packages (from importlib-metadata->ibm-watson-machine-learning) (3.4.1)\n",
      "Requirement already satisfied: pyparsing>=2.0.2 in /opt/conda/envs/Python-3.8-main/lib/python3.8/site-packages (from packaging->ibm-watson-machine-learning) (2.4.7)\n",
      "Installing collected packages: ibm-watson-machine-learning\n",
      "  Attempting uninstall: ibm-watson-machine-learning\n",
      "    Found existing installation: ibm-watson-machine-learning 1.0.176\n",
      "    Uninstalling ibm-watson-machine-learning-1.0.176:\n",
      "      Successfully uninstalled ibm-watson-machine-learning-1.0.176\n",
      "Successfully installed ibm-watson-machine-learning-1.0.178\n"
     ]
    }
   ],
   "source": [
    "!pip install -U ibm-watson-machine-learning"
   ]
  },
  {
   "cell_type": "code",
   "execution_count": 49,
   "metadata": {},
   "outputs": [],
   "source": [
    "from ibm_watson_machine_learning import APIClient\n",
    "import json\n",
    "import numpy as np"
   ]
  },
  {
   "cell_type": "markdown",
   "metadata": {},
   "source": [
    "# Authenticate and Set space"
   ]
  },
  {
   "cell_type": "code",
   "execution_count": 50,
   "metadata": {},
   "outputs": [],
   "source": [
    "wml_credentials = {\n",
    "    \"apikey\":\"pU7PfRmqtC1TxfZFxXcZ0-QQRGvALoznaeYtXwGcGFuZ\",\n",
    "    \"url\":\"https://us-south.ml.cloud.ibm.com\"\n",
    "}"
   ]
  },
  {
   "cell_type": "code",
   "execution_count": 51,
   "metadata": {},
   "outputs": [
    {
     "name": "stdout",
     "output_type": "stream",
     "text": [
      "Note: 'limit' is not provided. Only first 50 records will be displayed if the number of records exceed 50\n",
      "--  ----  -------\n",
      "ID  NAME  CREATED\n",
      "--  ----  -------\n"
     ]
    }
   ],
   "source": [
    "wml_client = APIClient(wml_credentials)\n",
    "wml_client.spaces.list()"
   ]
  },
  {
   "cell_type": "code",
   "execution_count": 53,
   "metadata": {},
   "outputs": [],
   "source": [
    "SPACE_ID=\"3df0647e-7c8a-492e-834e-4c8f87b67d10\""
   ]
  },
  {
   "cell_type": "code",
   "execution_count": 54,
   "metadata": {},
   "outputs": [
    {
     "data": {
      "text/plain": [
       "'SUCCESS'"
      ]
     },
     "execution_count": 54,
     "metadata": {},
     "output_type": "execute_result"
    }
   ],
   "source": [
    "wml_client.set.default_space(SPACE_ID)"
   ]
  },
  {
   "cell_type": "code",
   "execution_count": 55,
   "metadata": {},
   "outputs": [
    {
     "name": "stdout",
     "output_type": "stream",
     "text": [
      "-----------------------------  ------------------------------------  ----\n",
      "NAME                           ASSET_ID                              TYPE\n",
      "default_py3.6                  0062b8c9-8b7d-44a0-a9b9-46c416adcbd9  base\n",
      "pytorch-onnx_1.3-py3.7-edt     069ea134-3346-5748-b513-49120e15d288  base\n",
      "scikit-learn_0.20-py3.6        09c5a1d0-9c1e-4473-a344-eb7b665ff687  base\n",
      "spark-mllib_3.0-scala_2.12     09f4cff0-90a7-5899-b9ed-1ef348aebdee  base\n",
      "ai-function_0.1-py3.6          0cdb0f1e-5376-4f4d-92dd-da3b69aa9bda  base\n",
      "shiny-r3.6                     0e6e79df-875e-4f24-8ae9-62dcc2148306  base\n",
      "tensorflow_2.4-py3.7-horovod   1092590a-307d-563d-9b62-4eb7d64b3f22  base\n",
      "pytorch_1.1-py3.6              10ac12d6-6b30-4ccd-8392-3e922c096a92  base\n",
      "tensorflow_1.15-py3.6-ddl      111e41b3-de2d-5422-a4d6-bf776828c4b7  base\n",
      "scikit-learn_0.22-py3.6        154010fa-5b3b-4ac1-82af-4d5ee5abbc85  base\n",
      "default_r3.6                   1b70aec3-ab34-4b87-8aa0-a4a3c8296a36  base\n",
      "pytorch-onnx_1.3-py3.6         1bc6029a-cc97-56da-b8e0-39c3880dbbe7  base\n",
      "tensorflow_2.1-py3.6           1eb25b84-d6ed-5dde-b6a5-3fbdf1665666  base\n",
      "tensorflow_2.4-py3.8-horovod   217c16f6-178f-56bf-824a-b19f20564c49  base\n",
      "do_py3.8                       295addb5-9ef9-547e-9bf4-92ae3563e720  base\n",
      "autoai-ts_3.8-py3.8            2aa0c932-798f-5ae9-abd6-15e0c2402fb5  base\n",
      "tensorflow_1.15-py3.6          2b73a275-7cbf-420b-a912-eae7f436e0bc  base\n",
      "pytorch_1.2-py3.6              2c8ef57d-2687-4b7d-acce-01f94976dac1  base\n",
      "spark-mllib_2.3                2e51f700-bca0-4b0d-88dc-5c6791338875  base\n",
      "pytorch-onnx_1.1-py3.6-edt     32983cea-3f32-4400-8965-dde874a8d67e  base\n",
      "spark-mllib_3.0-py37           36507ebe-8770-55ba-ab2a-eafe787600e9  base\n",
      "spark-mllib_2.4                390d21f8-e58b-4fac-9c55-d7ceda621326  base\n",
      "xgboost_0.82-py3.6             39e31acd-5f30-41dc-ae44-60233c80306e  base\n",
      "pytorch-onnx_1.2-py3.6-edt     40589d0e-7019-4e28-8daa-fb03b6f4fe12  base\n",
      "default_r36py38                41c247d3-45f8-5a71-b065-8580229facf0  base\n",
      "autoai-obm_3.0                 42b92e18-d9ab-567f-988a-4240ba1ed5f7  base\n",
      "spark-mllib_2.4-r_3.6          49403dff-92e9-4c87-a3d7-a42d0021c095  base\n",
      "xgboost_0.90-py3.6             4ff8d6c2-1343-4c18-85e1-689c965304d3  base\n",
      "pytorch-onnx_1.1-py3.6         50f95b2a-bc16-43bb-bc94-b0bed208c60b  base\n",
      "autoai-ts_3.9-py3.8            52c57136-80fa-572e-8728-a5e7cbb42cde  base\n",
      "spark-mllib_2.4-scala_2.11     55a70f99-7320-4be5-9fb9-9edb5a443af5  base\n",
      "spark-mllib_3.0                5c1b0ca2-4977-5c2e-9439-ffd44ea8ffe9  base\n",
      "autoai-obm_2.0                 5c2e37fa-80b8-5e77-840f-d912469614ee  base\n",
      "spss-modeler_18.1              5c3cad7e-507f-4b2a-a9a3-ab53a21dee8b  base\n",
      "cuda-py3.8                     5d3232bf-c86b-5df4-a2cd-7bb870a1cd4e  base\n",
      "autoai-kb_3.1-py3.7            632d4b22-10aa-5180-88f0-f52dfb6444d7  base\n",
      "pytorch-onnx_1.7-py3.8         634d3cdc-b562-5bf9-a2d4-ea90a478456b  base\n",
      "spark-mllib_2.3-r_3.6          6586b9e3-ccd6-4f92-900f-0f8cb2bd6f0c  base\n",
      "tensorflow_2.4-py3.7           65e171d7-72d1-55d9-8ebb-f813d620c9bb  base\n",
      "spss-modeler_18.2              687eddc9-028a-4117-b9dd-e57b36f1efa5  base\n",
      "pytorch-onnx_1.2-py3.6         692a6a4d-2c4d-45ff-a1ed-b167ee55469a  base\n",
      "do_12.9                        75a3a4b0-6aa0-41b3-a618-48b1f56332a6  base\n",
      "spark-mllib_2.3-scala_2.11     7963efe5-bbec-417e-92cf-0574e21b4e8d  base\n",
      "spark-mllib_2.4-py37           7abc992b-b685-532b-a122-a396a3cdbaab  base\n",
      "caffe_1.0-py3.6                7bb3dbe2-da6e-4145-918d-b6d84aa93b6b  base\n",
      "pytorch-onnx_1.7-py3.7         812c6631-42b7-5613-982b-02098e6c909c  base\n",
      "cuda-py3.6                     82c79ece-4d12-40e6-8787-a7b9e0f62770  base\n",
      "tensorflow_1.15-py3.6-horovod  8964680e-d5e4-5bb8-919b-8342c6c0dfd8  base\n",
      "hybrid_0.1                     8c1a58c6-62b5-4dc4-987a-df751c2756b6  base\n",
      "pytorch-onnx_1.3-py3.7         8d5d8a87-a912-54cf-81ec-3914adaa988d  base\n",
      "-----------------------------  ------------------------------------  ----\n",
      "Note: Only first 50 records were displayed. To display more use 'limit' parameter.\n"
     ]
    }
   ],
   "source": [
    "wml_client.software_specifications.list()"
   ]
  },
  {
   "cell_type": "markdown",
   "metadata": {},
   "source": [
    "# Save and Deploy Model"
   ]
  },
  {
   "cell_type": "code",
   "execution_count": 56,
   "metadata": {},
   "outputs": [
    {
     "data": {
      "text/plain": [
       "'0.23.2'"
      ]
     },
     "execution_count": 56,
     "metadata": {},
     "output_type": "execute_result"
    }
   ],
   "source": [
    "import sklearn\n",
    "sklearn.__version__\n"
   ]
  },
  {
   "cell_type": "code",
   "execution_count": 59,
   "metadata": {},
   "outputs": [],
   "source": [
    "MODEL_NAME = 'car_model'\n",
    "DEPLOYMENT_NAME = 'car_deploy'\n",
    "CS_MODEL = dtr"
   ]
  },
  {
   "cell_type": "code",
   "execution_count": 60,
   "metadata": {},
   "outputs": [],
   "source": [
    "# Set Python Version\n",
    "software_spec_uid = wml_client.software_specifications.get_id_by_name('default_py3.8')\n",
    "\n",
    "# Setup model meta\n",
    "model_props = {\n",
    "    wml_client.repository.ModelMetaNames.NAME: MODEL_NAME, \n",
    "    wml_client.repository.ModelMetaNames.TYPE: 'scikit-learn_0.23', \n",
    "    wml_client.repository.ModelMetaNames.SOFTWARE_SPEC_UID: software_spec_uid \n",
    "}"
   ]
  },
  {
   "cell_type": "code",
   "execution_count": 61,
   "metadata": {},
   "outputs": [],
   "source": [
    "#Save model\n",
    "model_details = wml_client.repository.store_model(\n",
    "    model=CS_MODEL, \n",
    "    meta_props=model_props, \n",
    "    training_data=x_train, \n",
    "    training_target=y_train\n",
    ")"
   ]
  },
  {
   "cell_type": "code",
   "execution_count": 62,
   "metadata": {},
   "outputs": [
    {
     "data": {
      "text/plain": [
       "{'entity': {'hybrid_pipeline_software_specs': [],\n",
       "  'label_column': 'l0',\n",
       "  'software_spec': {'id': 'ab9e1b80-f2ce-592c-a7d2-4f2344f77194',\n",
       "   'name': 'default_py3.8'},\n",
       "  'training_data_references': [{'connection': {'access_key_id': 'not_applicable',\n",
       "     'endpoint_url': 'not_applicable',\n",
       "     'secret_access_key': 'not_applicable'},\n",
       "    'id': '1',\n",
       "    'location': {},\n",
       "    'schema': {'fields': [{'name': 'f0', 'type': 'int'},\n",
       "      {'name': 'f1', 'type': 'int'}],\n",
       "     'id': '1',\n",
       "     'type': 'ndarray'},\n",
       "    'type': 's3'}],\n",
       "  'type': 'scikit-learn_0.23'},\n",
       " 'metadata': {'created_at': '2021-12-22T10:00:22.233Z',\n",
       "  'id': '64ed3956-87ad-41bd-a644-03568eb4db18',\n",
       "  'modified_at': '2021-12-22T10:00:24.700Z',\n",
       "  'name': 'car_model',\n",
       "  'owner': 'IBMid-55000AKE52',\n",
       "  'resource_key': '194c146a-2129-493a-8937-47312fa0c8da',\n",
       "  'space_id': '3df0647e-7c8a-492e-834e-4c8f87b67d10'},\n",
       " 'system': {'warnings': []}}"
      ]
     },
     "execution_count": 62,
     "metadata": {},
     "output_type": "execute_result"
    }
   ],
   "source": [
    "model_details"
   ]
  },
  {
   "cell_type": "code",
   "execution_count": 63,
   "metadata": {},
   "outputs": [
    {
     "data": {
      "text/plain": [
       "'64ed3956-87ad-41bd-a644-03568eb4db18'"
      ]
     },
     "execution_count": 63,
     "metadata": {},
     "output_type": "execute_result"
    }
   ],
   "source": [
    "model_uid = wml_client.repository.get_model_uid(model_details); model_uid"
   ]
  },
  {
   "cell_type": "code",
   "execution_count": 64,
   "metadata": {},
   "outputs": [
    {
     "name": "stdout",
     "output_type": "stream",
     "text": [
      "-------------------------  ------------------------------------  --------  ------\n",
      "NAME                       DATASOURCE_ID                         TYPE      STATUS\n",
      "informix                   029e5d1c-ba73-4b09-b742-14c3a39b6cf9  database  active\n",
      "postgresql-ibmcloud        048ed1bf-516c-46f0-ae90-fa3349d8bc1c  database  active\n",
      "googlecloudstorage         05b7f0ea-6ae4-45e2-a455-cc280f110825  file      active\n",
      "impala                     05c58384-862e-4597-b19a-c71ea7e760bc  database  active\n",
      "salesforce                 06847b16-07b4-4415-a924-c63d11a17aa1  database  active\n",
      "datastax-ibmcloud          0bd5946b-6fcb-4253-bf76-48b362d24a89  database  active\n",
      "cosmos                     0c431748-2572-11ea-978f-2e728ce88125  file      active\n",
      "odbc-datastage             0ca92c3d-0e46-3b42-a573-77958d53c9be  database  active\n",
      "mysql-compose              0cd4b64c-b485-47ed-a8c4-329c25412de3  database  active\n",
      "hive                       0fd83fe5-8995-4e2e-a1be-679bb8813a6d  database  active\n",
      "cognos-analytics           11f3029d-a1cf-4c4d-b8e7-64422fa54a94  file      active\n",
      "cassandra-datastage        123e4263-dd25-44e5-8282-cf1b2eeea9bd  generic   active\n",
      "bluemixcloudobjectstorage  193a97c1-4475-4a19-b90c-295c4fdc6517  file      active\n",
      "elasticsearch              200d71ab-24a5-4b3d-85a4-a365bdd0d4cb  file      active\n",
      "webspheremq-datastage      21364ca9-5b2d-323e-bd4d-59ba961f75fb  database  active\n",
      "odata                      27c3e1b0-b7d2-4e32-9511-1b8aaa197de0  generic   active\n",
      "azurefilestorage           2a7b4fa1-c770-4807-8871-a3c5def5aa2d  file      active\n",
      "bigsql                     2bdd9544-f13a-47b6-b6c3-f5964a08066a  database  active\n",
      "snowflake                  2fc1372f-b58c-4d45-b0c4-dfb32a1c78a5  database  active\n",
      "redshift                   31170994-f54c-4148-9c5a-807832fa1d07  database  active\n",
      "db2iseries                 335cbfe7-e495-474e-8ad7-78ad63c05091  database  active\n",
      "dvm                        39a78d59-ef34-4108-8e46-4460433a3b99  database  active\n",
      "salesforce-datastage       3a00dbd2-2540-4976-afc2-5fc59f68ed35  generic   active\n",
      "http                       4210c294-8b0f-46b4-bcdc-1c6ada2b7e6b  file      active\n",
      "cloudant                   44e904b5-0cb2-4d8e-a5c0-c48bc3e24fdd  file      active\n",
      "sqlserver                  48695e79-6279-474a-b539-342625d3dfc2  database  active\n",
      "sybaseiq                   49079262-fac2-4762-99d1-452c1caf6b49  database  active\n",
      "dv                         49686982-255f-423a-a5de-d825bfc0abe3  database  active\n",
      "cloudobjectstorage         4bf2dedd-3809-4443-96ec-b7bc5726c07b  file      active\n",
      "db2cloud                   506039fb-802f-4ef2-a2bf-c1682e9c8aa2  database  active\n",
      "dropbox                    507b850c-f4a1-41d7-ad64-4182a1264014  file      active\n",
      "netezza-datastage          63e2d853-e650-3b59-91a5-95e7bf725b9b  database  active\n",
      "azuredatalake              6863060d-97c4-4653-abbe-958bde533f8c  file      active\n",
      "googlepubsub               693c2a02-39d1-4394-9426-fcdcfc4f3d7a  file      active\n",
      "sybase                     6976a3fc-b2ad-4db6-818c-ea049cac309d  database  active\n",
      "looker                     69857d6b-2be8-4a59-8a70-723405f09708  file      active\n",
      "sqlquery                   6bcaf300-30b3-11eb-adc1-0242ac120002  database  active\n",
      "sapodata                   79a0a133-cbb6-48d0-a3b0-0956a9655401  generic   active\n",
      "derby                      82696f1d-600c-4f78-a03c-d8349ea1976f  database  active\n",
      "hdfs-analyticsengine       895507b6-f23e-40b2-b40a-5414fc9bd2ca  file      active\n",
      "oracle-amazon              8b8fcd6d-8f95-49c7-8195-c72c95c9a84b  database  active\n",
      "db2                        8c1a4480-1c29-4b33-9086-9cb799d7b157  database  active\n",
      "mongodb-ibmcloud           8e65204d-6156-49e7-96e5-d635b2aa05f6  database  active\n",
      "bigquery                   933152db-99e1-453a-8ce5-ae0e6714d1a9  database  active\n",
      "postgresql-amazon          9493d830-882b-445e-96c7-8e4c635a1a5b  database  active\n",
      "db2hosted                  9525f6a6-1c44-4925-b1a0-9a2b731518cb  database  active\n",
      "teradata                   96ec8f53-a818-4ba1-bd8d-c86cc33a0b45  database  active\n",
      "oracle                     971223d3-093e-4957-8af9-a83181ee9dd9  database  active\n",
      "box                        99c3c67b-2133-4006-81f6-2b375a0048a3  file      active\n",
      "azureblobstorage           9a22e0af-8d19-4c4e-9aea-1d733e81315b  file      active\n",
      "mysql-amazon               9aa630f2-efc4-4d54-b8cb-254f31405b78  database  active\n",
      "tableau                    9ebc33eb-8c01-43fd-be1e-7202cf5c2c82  file      active\n",
      "amazons3                   a0b1d14a-4767-404c-aac1-4ce0e62818c3  file      active\n",
      "azuresql                   e375c0ae-cba9-47fc-baf7-523bef88c09e  database  active\n",
      "mysql                      b2cc3dc2-aff7-4a80-8f80-5e8c5703e9d2  database  active\n",
      "hdfs-apache                c10e5224-f17d-4524-844f-e97b1305e489  file      active\n",
      "netezza                    c2a82a72-0711-4376-a468-4e9951cabf22  database  active\n",
      "db2eventstore              c42bcde4-4345-4fb4-b7da-c8c557527c8b  database  active\n",
      "mongodb                    c6fb9293-51eb-4f2b-b20c-4dafa3136744  database  active\n",
      "db2zos                     c8d3eab2-25f6-4a90-8e10-0b4226693c45  database  active\n",
      "tm1odata                   c8f3d379-78b2-4bad-969d-2e928277377e  generic   active\n",
      "cassandra                  e6ff8c10-4199-4b58-9a93-749411eafacd  database  active\n",
      "dashdb                     cfdcb449-1204-44ba-baa6-9a8a878e6aa7  database  active\n",
      "custom-noop                dca613ef-5e34-4eca-9a80-fedcf9122834  generic   system\n",
      "ftp                        d5dbc62f-7c4c-4d49-8eb2-dab6cef2969c  file      active\n",
      "db2-datastage              fa31fba9-10e9-32d7-968c-f677fffd1e3b  database  active\n",
      "oracle-datastage           dd22f798-8c9b-41fa-841e-d66cbdf50722  generic   active\n",
      "postgresql                 e1c23729-99d8-4407-b3df-336e33ffdc82  database  active\n",
      "greenplum                  e278eff1-a7c4-4d60-9a02-bde1bb1d26ef  database  active\n",
      "kafka-datastage            f13bc9b7-4a46-48f4-99c3-01d943334ba7  generic   active\n",
      "mariadb                    f3ee04c2-7c3b-4534-b300-eb6ef701646d  database  active\n",
      "-------------------------  ------------------------------------  --------  ------\n"
     ]
    }
   ],
   "source": [
    "wml_client.connections.list_datasource_types()"
   ]
  },
  {
   "cell_type": "code",
   "execution_count": 65,
   "metadata": {},
   "outputs": [],
   "source": [
    "# Set meta\n",
    "deployment_props = {\n",
    "    wml_client.deployments.ConfigurationMetaNames.NAME:DEPLOYMENT_NAME, \n",
    "    wml_client.deployments.ConfigurationMetaNames.ONLINE: {}\n",
    "}\n",
    "\n"
   ]
  },
  {
   "cell_type": "code",
   "execution_count": 66,
   "metadata": {},
   "outputs": [
    {
     "name": "stdout",
     "output_type": "stream",
     "text": [
      "\n",
      "\n",
      "#######################################################################################\n",
      "\n",
      "Synchronous deployment creation for uid: '64ed3956-87ad-41bd-a644-03568eb4db18' started\n",
      "\n",
      "#######################################################################################\n",
      "\n",
      "\n",
      "initializingNote: online_url is deprecated and will be removed in a future release. Use serving_urls instead.\n",
      "\n",
      "Note: online_url is deprecated and will be removed in a future release. Use serving_urls instead.\n",
      "\n",
      "ready\n",
      "\n",
      "\n",
      "------------------------------------------------------------------------------------------------\n",
      "Successfully finished deployment creation, deployment_uid='4496c68a-ed82-4945-a20b-0b33c6899d35'\n",
      "------------------------------------------------------------------------------------------------\n",
      "\n",
      "\n"
     ]
    }
   ],
   "source": [
    "# Deploy\n",
    "deployment = wml_client.deployments.create(\n",
    "    artifact_uid=model_uid, \n",
    "    meta_props=deployment_props \n",
    ")\n",
    "\n"
   ]
  },
  {
   "cell_type": "code",
   "execution_count": null,
   "metadata": {},
   "outputs": [],
   "source": []
  }
 ],
 "metadata": {
  "kernelspec": {
   "display_name": "Python 3.8",
   "language": "python",
   "name": "python3"
  },
  "language_info": {
   "codemirror_mode": {
    "name": "ipython",
    "version": 3
   },
   "file_extension": ".py",
   "mimetype": "text/x-python",
   "name": "python",
   "nbconvert_exporter": "python",
   "pygments_lexer": "ipython3",
   "version": "3.8.12"
  }
 },
 "nbformat": 4,
 "nbformat_minor": 4
}
